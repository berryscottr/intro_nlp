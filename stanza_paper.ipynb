{
 "cells": [
  {
   "cell_type": "markdown",
   "metadata": {
    "collapsed": true,
    "pycharm": {
     "name": "#%% md\n"
    }
   },
   "source": [
    "# Stanza Code Submission\n",
    "## Scorberr\n",
    "Github Link - https://github.com/stanfordnlp/stanza"
   ]
  },
  {
   "cell_type": "markdown",
   "source": [
    "Install Stanza"
   ],
   "metadata": {
    "collapsed": false,
    "pycharm": {
     "name": "#%% md\n"
    }
   }
  },
  {
   "cell_type": "code",
   "execution_count": 5,
   "outputs": [
    {
     "name": "stdout",
     "output_type": "stream",
     "text": [
      "Defaulting to user installation because normal site-packages is not writeable\n",
      "Requirement already satisfied: stanza in c:\\users\\berry\\appdata\\roaming\\python\\python310\\site-packages (0.3)\n"
     ]
    }
   ],
   "source": [
    "# Install; note that the prefix \"!\" is not needed if you are running in a terminal\n",
    "!pip install stanza\n",
    "\n",
    "# Import the package\n",
    "import stanza"
   ],
   "metadata": {
    "collapsed": false,
    "pycharm": {
     "name": "#%%\n"
    }
   }
  },
  {
   "cell_type": "markdown",
   "source": [
    "### Download English model"
   ],
   "metadata": {
    "collapsed": false,
    "pycharm": {
     "name": "#%% md\n"
    }
   }
  },
  {
   "cell_type": "code",
   "execution_count": 6,
   "outputs": [
    {
     "data": {
      "text/plain": "Downloading https://raw.githubusercontent.com/stanfordnlp/stanza-resources/main/resources_1.3.0.json:   0%|   …",
      "application/vnd.jupyter.widget-view+json": {
       "version_major": 2,
       "version_minor": 0,
       "model_id": "ca713d15ddb04654aed8da9927c2239f"
      }
     },
     "metadata": {},
     "output_type": "display_data"
    },
    {
     "name": "stderr",
     "output_type": "stream",
     "text": [
      "2021-11-04 23:21:15 INFO: Downloading default packages for language: en (English)...\n"
     ]
    },
    {
     "data": {
      "text/plain": "Downloading https://huggingface.co/stanfordnlp/stanza-en/resolve/v1.3.0/models/default.zip:   0%|          | 0…",
      "application/vnd.jupyter.widget-view+json": {
       "version_major": 2,
       "version_minor": 0,
       "model_id": "65de05abee094cf8b5b1340398a49038"
      }
     },
     "metadata": {},
     "output_type": "display_data"
    },
    {
     "name": "stderr",
     "output_type": "stream",
     "text": [
      "2021-11-04 23:22:02 INFO: Finished downloading models and saved to C:\\Users\\berry\\stanza_resources.\n"
     ]
    }
   ],
   "source": [
    "import requests\n",
    "\n",
    "try:\n",
    "    stanza.download('en')\n",
    "except requests.exceptions.ConnectionError:\n",
    "    proxies = {'http': 'http://ip:port', 'https': 'http://ip:port'}\n",
    "    stanza.download('en', proxies=proxies)"
   ],
   "metadata": {
    "collapsed": false,
    "pycharm": {
     "name": "#%%\n"
    }
   }
  },
  {
   "cell_type": "markdown",
   "source": [
    "### Process Text\n",
    "Construct pieline and annotate text"
   ],
   "metadata": {
    "collapsed": false,
    "pycharm": {
     "name": "#%% md\n"
    }
   }
  },
  {
   "cell_type": "code",
   "execution_count": 7,
   "outputs": [
    {
     "name": "stderr",
     "output_type": "stream",
     "text": [
      "2021-11-04 23:22:02 INFO: Loading these models for language: en (English):\n",
      "============================\n",
      "| Processor    | Package   |\n",
      "----------------------------\n",
      "| tokenize     | combined  |\n",
      "| pos          | combined  |\n",
      "| lemma        | combined  |\n",
      "| depparse     | combined  |\n",
      "| sentiment    | sstplus   |\n",
      "| constituency | wsj       |\n",
      "| ner          | ontonotes |\n",
      "============================\n",
      "\n",
      "2021-11-04 23:22:02 INFO: Use device: cpu\n",
      "2021-11-04 23:22:02 INFO: Loading: tokenize\n",
      "2021-11-04 23:22:02 INFO: Loading: pos\n",
      "2021-11-04 23:22:02 INFO: Loading: lemma\n",
      "2021-11-04 23:22:03 INFO: Loading: depparse\n",
      "2021-11-04 23:22:03 INFO: Loading: sentiment\n",
      "2021-11-04 23:22:04 INFO: Loading: constituency\n",
      "2021-11-04 23:22:05 INFO: Loading: ner\n",
      "2021-11-04 23:22:07 INFO: Done loading processors!\n"
     ]
    }
   ],
   "source": [
    "nlp = stanza.Pipeline('en')\n",
    "doc = nlp(\"Barack Obama was born in Hawaii.  He was elected president in 2008.\")"
   ],
   "metadata": {
    "collapsed": false,
    "pycharm": {
     "name": "#%%\n"
    }
   }
  },
  {
   "cell_type": "markdown",
   "source": [
    "### Access annotations"
   ],
   "metadata": {
    "collapsed": false,
    "pycharm": {
     "name": "#%% md\n"
    }
   }
  },
  {
   "cell_type": "code",
   "execution_count": 8,
   "outputs": [
    {
     "name": "stdout",
     "output_type": "stream",
     "text": [
      "[Sentence 1]\n",
      "Barack      \tBarack      \tPROPN \t4\tnsubj:pass  \n",
      "\n",
      "Obama       \tObama       \tPROPN \t1\tflat        \n",
      "\n",
      "was         \tbe          \tAUX   \t4\taux:pass    \n",
      "\n",
      "born        \tbear        \tVERB  \t0\troot        \n",
      "\n",
      "in          \tin          \tADP   \t6\tcase        \n",
      "\n",
      "Hawaii      \tHawaii      \tPROPN \t4\tobl         \n",
      "\n",
      ".           \t.           \tPUNCT \t4\tpunct       \n",
      "\n",
      "[Sentence 2]\n",
      "He          \the          \tPRON  \t3\tnsubj:pass  \n",
      "\n",
      "was         \tbe          \tAUX   \t3\taux:pass    \n",
      "\n",
      "elected     \telect       \tVERB  \t0\troot        \n",
      "\n",
      "president   \tpresident   \tNOUN  \t3\txcomp       \n",
      "\n",
      "in          \tin          \tADP   \t6\tcase        \n",
      "\n",
      "2008        \t2008        \tNUM   \t3\tobl         \n",
      "\n",
      ".           \t.           \tPUNCT \t3\tpunct       \n",
      "\n",
      "Mention text\tType\tStart-End\n",
      "Barack Obama\tPERSON\t0-12\n",
      "Hawaii\tGPE\t25-31\n",
      "2008\tDATE\t62-66\n"
     ]
    }
   ],
   "source": [
    "for i, sent in enumerate(doc.sentences):\n",
    "    print(\"[Sentence {}]\".format(i+1))\n",
    "    for word in sent.words:\n",
    "        print(\"{:12s}\\t{:12s}\\t{:6s}\\t{:d}\\t{:12s}\\n\".format(\n",
    "            word.text, word.lemma, word.pos, word.head, word.deprel))\n",
    "print(\"Mention text\\tType\\tStart-End\")\n",
    "for ent in doc.ents:\n",
    "    print(\"{}\\t{}\\t{}-{}\".format(ent.text, ent.type, ent.start_char, ent.end_char))"
   ],
   "metadata": {
    "collapsed": false,
    "pycharm": {
     "name": "#%%\n"
    }
   }
  }
 ],
 "metadata": {
  "kernelspec": {
   "display_name": "Python 3",
   "language": "python",
   "name": "python3"
  },
  "language_info": {
   "codemirror_mode": {
    "name": "ipython",
    "version": 2
   },
   "file_extension": ".py",
   "mimetype": "text/x-python",
   "name": "python",
   "nbconvert_exporter": "python",
   "pygments_lexer": "ipython2",
   "version": "2.7.6"
  }
 },
 "nbformat": 4,
 "nbformat_minor": 0
}