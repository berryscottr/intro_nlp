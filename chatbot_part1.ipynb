{
 "cells": [
  {
   "cell_type": "markdown",
   "metadata": {
    "collapsed": true,
    "pycharm": {
     "name": "#%% md\n"
    }
   },
   "source": [
    "## Scott Berry - Chatbot Part 1"
   ]
  },
  {
   "cell_type": "code",
   "execution_count": null,
   "outputs": [],
   "source": [
    "from nltk.corpus import stopwords\n",
    "from nltk.stem import PorterStemmer, LancasterStemmer, SnowballStemmer\n",
    "from nltk.tokenize import sent_tokenize, word_tokenize\n",
    "\n",
    "text = \"\"\"\n",
    "There are no more barriers to cross. All I have in common with the uncontrollable and the insane, the vicious and the\n",
    "evil, all the mayhem I have caused and my utter indifference toward it I have now surpassed. My pain is constant and\n",
    "sharp, and I do not hope for a better world for anyone. In fact, I want my pain to be inflicted on others. I want no\n",
    "one to escape. But even after admitting this, there is no catharsis; my punishment continues to elude me, and I gain no\n",
    "deeper knowledge of myself. No new knowledge can be extracted from my telling. This confession has meant nothing.\n",
    "\"\"\"\n",
    "\n",
    "\n",
    "def main():\n",
    "    tokenized_sentences = [word_tokenize(t) for t in sent_tokenize(text)]\n",
    "    words = [word for sentence in tokenized_sentences for word in sentence]\n",
    "    words = [word.lower() for word in words if word.isalpha()]\n",
    "    stop_words = stopwords.words('english')\n",
    "    filtered_words = [w for w in words if w not in stop_words]\n",
    "    ps = PorterStemmer()\n",
    "    ps_stemmed = [ps.stem(word) for word in filtered_words]\n",
    "    ls = LancasterStemmer()\n",
    "    ls_stemmed = [ls.stem(word) for word in filtered_words]\n",
    "    ss = SnowballStemmer('english')\n",
    "    ss_stemmed = [ss.stem(word) for word in filtered_words]\n",
    "    print(\"Porter:\\n\", ps_stemmed)\n",
    "    print(\"Lancaster:\\n\", ls_stemmed)\n",
    "    print(\"Snowball:\\n\", ss_stemmed)"
   ],
   "metadata": {
    "collapsed": false,
    "pycharm": {
     "name": "#%%\n"
    }
   }
  }
 ],
 "metadata": {
  "kernelspec": {
   "display_name": "Python 3",
   "language": "python",
   "name": "python3"
  },
  "language_info": {
   "codemirror_mode": {
    "name": "ipython",
    "version": 2
   },
   "file_extension": ".py",
   "mimetype": "text/x-python",
   "name": "python",
   "nbconvert_exporter": "python",
   "pygments_lexer": "ipython2",
   "version": "2.7.6"
  }
 },
 "nbformat": 4,
 "nbformat_minor": 0
}