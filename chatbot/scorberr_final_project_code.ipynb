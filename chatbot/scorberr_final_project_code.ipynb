{
 "cells": [
  {
   "cell_type": "markdown",
   "metadata": {
    "collapsed": true,
    "pycharm": {
     "name": "#%% md\n"
    }
   },
   "source": [
    "## Scott Berry - Final Project Chatbot"
   ]
  },
  {
   "cell_type": "markdown",
   "source": [
    "Install Chatterbot and spaCy libraries as well as other dependencies"
   ],
   "metadata": {
    "collapsed": false,
    "pycharm": {
     "name": "#%% md\n"
    }
   }
  },
  {
   "cell_type": "code",
   "execution_count": 36,
   "outputs": [],
   "source": [
    "## !pip install chatterbot\n",
    "## !pip install chatterbot_corpus\n",
    "## !pip install spacy\n",
    "## !pip install pytz\n",
    "## !python -m spacy download en_core_web_sm"
   ],
   "metadata": {
    "collapsed": false,
    "pycharm": {
     "name": "#%%\n"
    }
   }
  },
  {
   "cell_type": "markdown",
   "source": [
    "Initialize chatbot"
   ],
   "metadata": {
    "collapsed": false,
    "pycharm": {
     "name": "#%% md\n"
    }
   }
  },
  {
   "cell_type": "code",
   "execution_count": 38,
   "outputs": [
    {
     "ename": "ModuleNotFoundError",
     "evalue": "No module named 'chatterbot.ext'",
     "output_type": "error",
     "traceback": [
      "\u001B[1;31m---------------------------------------------------------------------------\u001B[0m",
      "\u001B[1;31mModuleNotFoundError\u001B[0m                       Traceback (most recent call last)",
      "\u001B[1;32m~\\AppData\\Local\\Temp/ipykernel_10864/2194513817.py\u001B[0m in \u001B[0;36m<module>\u001B[1;34m\u001B[0m\n\u001B[0;32m      1\u001B[0m \u001B[1;32mfrom\u001B[0m \u001B[0mchatterbot\u001B[0m \u001B[1;32mimport\u001B[0m \u001B[0mChatBot\u001B[0m\u001B[1;33m\u001B[0m\u001B[1;33m\u001B[0m\u001B[0m\n\u001B[0;32m      2\u001B[0m \u001B[1;33m\u001B[0m\u001B[0m\n\u001B[1;32m----> 3\u001B[1;33m bot = ChatBot(\n\u001B[0m\u001B[0;32m      4\u001B[0m     \u001B[1;34m\"Scorberr_Chatbot\"\u001B[0m\u001B[1;33m,\u001B[0m\u001B[1;33m\u001B[0m\u001B[1;33m\u001B[0m\u001B[0m\n\u001B[0;32m      5\u001B[0m     logic_adapters=[\n",
      "\u001B[1;32m~\\AppData\\Roaming\\Python\\Python310\\site-packages\\chatterbot\\chatterbot.py\u001B[0m in \u001B[0;36m__init__\u001B[1;34m(self, name, **kwargs)\u001B[0m\n",
      "\u001B[1;32m~\\AppData\\Roaming\\Python\\Python310\\site-packages\\chatterbot\\utils.py\u001B[0m in \u001B[0;36minitialize_class\u001B[1;34m(data, *args, **kwargs)\u001B[0m\n",
      "\u001B[1;32m~\\AppData\\Roaming\\Python\\Python310\\site-packages\\chatterbot\\storage\\sql_storage.py\u001B[0m in \u001B[0;36m__init__\u001B[1;34m(self, **kwargs)\u001B[0m\n",
      "\u001B[1;32m~\\AppData\\Roaming\\Python\\Python310\\site-packages\\chatterbot\\storage\\sql_storage.py\u001B[0m in \u001B[0;36mcreate_database\u001B[1;34m(self)\u001B[0m\n",
      "\u001B[1;31mModuleNotFoundError\u001B[0m: No module named 'chatterbot.ext'"
     ]
    }
   ],
   "source": [
    "from chatterbot import ChatBot\n",
    "\n",
    "bot = ChatBot(\n",
    "    \"Scorberr_Chatbot\",\n",
    "    logic_adapters=[\n",
    "        {\n",
    "            \"import_path\": \"chatterbot.logic.BestMatch\",\n",
    "            \"default_response\": \"Sorry, could you rephrase that? I didn't understand.\",\n",
    "            \"maximum_similarity_threshold\": 0.90\n",
    "        }\n",
    "    ],\n",
    "    preprocessors=[\n",
    "        \"chatterbot.preprocessors.clean_whitespace\",\n",
    "        \"chatterbot.preprocessors.unescape_html\",\n",
    "        \"chatterbot.preprocessors.convert_to_ascii\"\n",
    "    ]\n",
    ")"
   ],
   "metadata": {
    "collapsed": false,
    "pycharm": {
     "name": "#%%\n"
    }
   }
  },
  {
   "cell_type": "markdown",
   "source": [
    "Train chatbot"
   ],
   "metadata": {
    "collapsed": false,
    "pycharm": {
     "name": "#%% md\n"
    }
   }
  },
  {
   "cell_type": "code",
   "execution_count": null,
   "outputs": [],
   "source": [
    "from chatterbot.trainers import ListTrainer\n",
    "trainer = ListTrainer(bot)\n",
    "\n",
    "trainer.train([\n",
    "    \"Hi, how can I assist?\",\n",
    "    \"Hello, what temperature does water boil at?\",\n",
    "    \"Water boils at 212 degrees Fahrenheit and 100 degrees Celsius.\",\n",
    "    \"Okay, thank you!\",\n",
    "    \"You're welcome, have a good day!\"\n",
    "])"
   ],
   "metadata": {
    "collapsed": false,
    "pycharm": {
     "name": "#%% \n"
    }
   }
  },
  {
   "cell_type": "markdown",
   "source": [
    "Test Chatbot"
   ],
   "metadata": {
    "collapsed": false
   }
  },
  {
   "cell_type": "code",
   "execution_count": null,
   "outputs": [],
   "source": [
    "response = bot.get_response(\"water boiling temperature\")\n",
    "print(response)"
   ],
   "metadata": {
    "collapsed": false,
    "pycharm": {
     "name": "#%%\n"
    }
   }
  },
  {
   "cell_type": "markdown",
   "source": [
    "Create a while loop for chatbot activity"
   ],
   "metadata": {
    "collapsed": false
   }
  },
  {
   "cell_type": "code",
   "execution_count": null,
   "outputs": [],
   "source": [
    "name = input(\"Enter your name: \")\n",
    "\n",
    "print(\"Welcome to Scorberr\\\\'s chatbot, how can I help?\")\n",
    "\n",
    "while True:\n",
    "\n",
    "    request = input(name + \":\")\n",
    "\n",
    "    if request.lower() == \"bye\":\n",
    "        print(\"Bot: Bye\")\n",
    "        break\n",
    "    else:\n",
    "        response = bot.get_response(request)\n",
    "        print(\"Bot: \", response)"
   ],
   "metadata": {
    "collapsed": false,
    "pycharm": {
     "name": "#%%\n"
    }
   }
  },
  {
   "cell_type": "markdown",
   "source": [
    "Train on chatterbot corpus library"
   ],
   "metadata": {
    "collapsed": false
   }
  },
  {
   "cell_type": "code",
   "execution_count": null,
   "outputs": [],
   "source": [
    "from chatterbot.trainers import ChatterBotCorpusTrainer\n",
    "\n",
    "trainer = ChatterBotCorpusTrainer(bot)\n",
    "\n",
    "corpus_library = [\n",
    "    \"english\", \"AI\", \"botprofile\", \"conversations\", \"greetings\", \"health\", \"science\"\n",
    "]\n",
    "for corpus in corpus_library:\n",
    "    trainer.train(\"chatterbot.corpus.\" + corpus)"
   ],
   "metadata": {
    "collapsed": false,
    "pycharm": {
     "name": "#%%\n"
    }
   }
  }
 ],
 "metadata": {
  "kernelspec": {
   "display_name": "Python 3",
   "language": "python",
   "name": "python3"
  },
  "language_info": {
   "codemirror_mode": {
    "name": "ipython",
    "version": 2
   },
   "file_extension": ".py",
   "mimetype": "text/x-python",
   "name": "python",
   "nbconvert_exporter": "python",
   "pygments_lexer": "ipython2",
   "version": "2.7.6"
  }
 },
 "nbformat": 4,
 "nbformat_minor": 0
}